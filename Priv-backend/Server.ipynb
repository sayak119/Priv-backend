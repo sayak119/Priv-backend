{
 "cells": [
  {
   "cell_type": "code",
   "execution_count": 5,
   "metadata": {},
   "outputs": [],
   "source": [
    "from flask import Flask , request\n",
    "from flask_restplus import Api , Resource , fields\n",
    "from flask_cors import CORS, cross_origin\n",
    "#import ChromeExtensionAPI_controller as controller\n",
    "\n"
   ]
  },
  {
   "cell_type": "code",
   "execution_count": 6,
   "metadata": {},
   "outputs": [],
   "source": [
    "\n",
    "import Controller as controller"
   ]
  },
  {
   "cell_type": "code",
   "execution_count": 2,
   "metadata": {
    "collapsed": true
   },
   "outputs": [],
   "source": [
    "flask_app = Flask(__name__)\n",
    "CORS(flask_app)\n",
    "app = Api(app = flask_app,\n",
    "\t\t  version = \"1.0\",\n",
    "\t\t  title = \"Sayak Extension Server\",\n",
    "\t\t  description = \"\")\n",
    "\n",
    "#app.config['CORS_HEADERS'] = 'Content-Type'\n",
    "name_space = app.namespace('sayakext', description='Manage names')\n",
    "\n",
    "\n",
    "\n",
    "#cors = CORS(app)\n",
    "@name_space.route(\"/<string:query>\")\n",
    "#@cross_origin()\n",
    "class Inner(Resource):\n",
    "\t#@app.expect(model)\n",
    "    def get(self,query):\n",
    "        try:\n",
    "            #results = kwg.get_all_resultsOf_query_innerText(query)\n",
    "            return {\"Hassan\":2}\n",
    "        except KeyError as e:\n",
    "            name_space.abort(500, e.__doc__, status=\"Could not save information\", statusCode=\"500\")\n",
    "        except Exception as e:\n",
    "            name_space.abort(400, e.__doc__, status=\"Could not save information\", statusCode=\"400\")\n",
    "#@name_space.route(\"/<string:query>\")\n",
    "#@cross_origin()\n",
    "class Outer(Resource):\n",
    "\t#@app.expect(model)\n",
    "    def get(self,query):\n",
    "        try:\n",
    "            results = controller.GetResults(query)\n",
    "            return results\n",
    "        except KeyError as e:\n",
    "            name_space.abort(500, e.__doc__, status=\"Could not save information\", statusCode=\"500\")\n",
    "        except Exception as e:\n",
    "            name_space.abort(400, e.__doc__, status=\"Could not save information\", statusCode=\"400\")"
   ]
  },
  {
   "cell_type": "code",
   "execution_count": null,
   "metadata": {
    "collapsed": true
   },
   "outputs": [],
   "source": []
  }
 ],
 "metadata": {
  "kernelspec": {
   "display_name": "Python 3",
   "language": "python",
   "name": "python3"
  },
  "language_info": {
   "codemirror_mode": {
    "name": "ipython",
    "version": 3
   },
   "file_extension": ".py",
   "mimetype": "text/x-python",
   "name": "python",
   "nbconvert_exporter": "python",
   "pygments_lexer": "ipython3",
   "version": "3.6.8"
  }
 },
 "nbformat": 4,
 "nbformat_minor": 2
}
